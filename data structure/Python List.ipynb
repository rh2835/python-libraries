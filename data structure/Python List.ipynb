{
 "cells": [
  {
   "cell_type": "markdown",
   "metadata": {},
   "source": [
    "**Python List**"
   ]
  },
  {
   "cell_type": "code",
   "execution_count": 3,
   "metadata": {},
   "outputs": [
    {
     "name": "stdout",
     "output_type": "stream",
     "text": [
      "['bear', 'lion', 'panda']\n"
     ]
    }
   ],
   "source": [
    "#list elements are all same type\n",
    "zoo = ['bear','lion','panda']\n",
    "print(zoo)"
   ]
  },
  {
   "cell_type": "code",
   "execution_count": 4,
   "metadata": {},
   "outputs": [
    {
     "name": "stdout",
     "output_type": "stream",
     "text": [
      "['bear', ['panda']]\n"
     ]
    }
   ],
   "source": [
    "#list elements are not all same type\n",
    "biggerzoo = ['bear',['panda']]\n",
    "print(biggerzoo)"
   ]
  },
  {
   "cell_type": "markdown",
   "metadata": {},
   "source": [
    "Lists, strings, tuples are sequence types since they store ordered collection of items. Program can iterate over sequence types, which is why lists, strings, tuples, sets are \"iterables\"."
   ]
  },
  {
   "cell_type": "markdown",
   "metadata": {},
   "source": [
    "**Agenda**:\n",
    "* 1.When to use lists, tuples, dictionaries or sets?\n",
    "* 2.Randomly select an element in a list\n",
    "* 3.Transform lists into other data structures\n",
    "* 4.append() vs extend()\n",
    "* 5.sort() vs sorted()\n",
    "* 6.Clone or copy a list\n",
    "* 7.List comprehension\n",
    "* 8.Count occurences of a list item\n",
    "* 9.Split a list into evenly sized chunks\n",
    "* 10.Loop over a list\n",
    "* 11.Create flat lists out of lists\n",
    "* 12.Get intersection of lists\n",
    "* 13.Remove duplicates from lists\n",
    "* 14.NumPy vs Lists\n",
    "* 15.NumPy arrays\n",
    "* 16.Math with lists"
   ]
  },
  {
   "cell_type": "markdown",
   "metadata": {},
   "source": [
    "**1.When to use lists, tuples, dictionaries or sets?**"
   ]
  },
  {
   "cell_type": "markdown",
   "metadata": {},
   "source": [
    "List vs Tuple<br/>\n",
    "If you're defining a constant set of values and just need to iterate through it, use tuple. Tuple is faster and safer than list."
   ]
  },
  {
   "cell_type": "markdown",
   "metadata": {},
   "source": [
    "List vs Dictionaries<br/>\n",
    "* List stores items with order, while dictionaries don't have order.\n",
    "* Dictionaries are know to associate each key with a value, while lists just contain values."
   ]
  },
  {
   "cell_type": "markdown",
   "metadata": {},
   "source": [
    "Lists vs Sets<br/>\n",
    "* Sets have no order, same as dictionaries.\n",
    "* Sets require the items contained in it to be hashable, lists store non-hashable items.\n",
    "* Sets require items to be unique and immutable. Lists allow duplicates and mutable.\n",
    "* hashable: floats, integers, tuples, strings. Hashability makes an object usable as a dictionary key and a set member, because these data structures use the hash value internally.\n",
    "* non-hashable: dictionaries, sets, lists"
   ]
  },
  {
   "cell_type": "code",
   "execution_count": 7,
   "metadata": {},
   "outputs": [
    {
     "name": "stdout",
     "output_type": "stream",
     "text": [
      "False\n"
     ]
    }
   ],
   "source": [
    "import collections\n",
    "#check if a dictionary is hashable\n",
    "print(isinstance({}, collections.Hashable))"
   ]
  },
  {
   "cell_type": "code",
   "execution_count": 8,
   "metadata": {},
   "outputs": [
    {
     "name": "stdout",
     "output_type": "stream",
     "text": [
      "True\n"
     ]
    }
   ],
   "source": [
    "#check if a float is hashable\n",
    "print(isinstance(0.125, collections.Hashable))"
   ]
  },
  {
   "cell_type": "markdown",
   "metadata": {},
   "source": [
    "**2.Randomly select an element in a list**"
   ]
  },
  {
   "cell_type": "code",
   "execution_count": 9,
   "metadata": {},
   "outputs": [],
   "source": [
    "from random import choice"
   ]
  },
  {
   "cell_type": "code",
   "execution_count": 10,
   "metadata": {},
   "outputs": [
    {
     "name": "stdout",
     "output_type": "stream",
     "text": [
      "c\n"
     ]
    }
   ],
   "source": [
    "list = ['a','b','c']\n",
    "print(choice(list))"
   ]
  },
  {
   "cell_type": "code",
   "execution_count": 11,
   "metadata": {},
   "outputs": [
    {
     "name": "stdout",
     "output_type": "stream",
     "text": [
      "b\n"
     ]
    }
   ],
   "source": [
    "from random import randrange\n",
    "randomLetters = ['a','b','c']\n",
    "#select a random index from lists\n",
    "randomIndex = randrange(0,len(randomLetters))\n",
    "print(randomLetters[randomIndex])"
   ]
  },
  {
   "cell_type": "markdown",
   "metadata": {},
   "source": [
    "**3.Transform lists into other data structures**"
   ]
  },
  {
   "cell_type": "markdown",
   "metadata": {},
   "source": [
    "convert a list to a string"
   ]
  },
  {
   "cell_type": "code",
   "execution_count": 4,
   "metadata": {},
   "outputs": [
    {
     "name": "stdout",
     "output_type": "stream",
     "text": [
      "onetwothree\n",
      "123\n"
     ]
    }
   ],
   "source": [
    "listofstr = ['one','two','three']\n",
    "tostr = ''.join(listofstr)\n",
    "print(tostr)\n",
    "\n",
    "listofnum = [1,2,3]\n",
    "tostr = ''.join(str(n) for n in listofnum)\n",
    "print(tostr)"
   ]
  },
  {
   "cell_type": "markdown",
   "metadata": {},
   "source": [
    "convert a list to tuple"
   ]
  },
  {
   "cell_type": "code",
   "execution_count": 5,
   "metadata": {},
   "outputs": [
    {
     "data": {
      "text/plain": [
       "('one', 'two', 'three')"
      ]
     },
     "execution_count": 5,
     "metadata": {},
     "output_type": "execute_result"
    }
   ],
   "source": [
    "tuple(listofstr)"
   ]
  },
  {
   "cell_type": "markdown",
   "metadata": {},
   "source": [
    "convert a list to set"
   ]
  },
  {
   "cell_type": "code",
   "execution_count": 6,
   "metadata": {},
   "outputs": [
    {
     "data": {
      "text/plain": [
       "{'one', 'three', 'two'}"
      ]
     },
     "execution_count": 6,
     "metadata": {},
     "output_type": "execute_result"
    }
   ],
   "source": [
    "set(listofstr)"
   ]
  },
  {
   "cell_type": "markdown",
   "metadata": {},
   "source": [
    "convert lists to dictionaries"
   ]
  },
  {
   "cell_type": "code",
   "execution_count": 11,
   "metadata": {},
   "outputs": [
    {
     "name": "stdout",
     "output_type": "stream",
     "text": [
      "{'hello': 'world', '1': '2'}\n"
     ]
    }
   ],
   "source": [
    "helloworld = ['hello','world','1','2']\n",
    "#make sure key-value pairs\n",
    "helloworld_dict = dict(zip(helloworld[0::2], helloworld[1::2]))\n",
    "print(helloworld_dict)"
   ]
  },
  {
   "cell_type": "code",
   "execution_count": 13,
   "metadata": {},
   "outputs": [
    {
     "name": "stdout",
     "output_type": "stream",
     "text": [
      "{1: 2, 3: 4, 5: 6}\n"
     ]
    }
   ],
   "source": [
    "a = [1,2,3,4,5,6]\n",
    "#create a list iterator object\n",
    "i = iter(a)\n",
    "#zip and create dictionary\n",
    "print(dict(zip(i,i)))"
   ]
  },
  {
   "cell_type": "markdown",
   "metadata": {},
   "source": [
    "**4. append() vs extend()**"
   ]
  },
  {
   "cell_type": "markdown",
   "metadata": {},
   "source": [
    "check whether a variable is iterable"
   ]
  },
  {
   "cell_type": "code",
   "execution_count": 15,
   "metadata": {},
   "outputs": [
    {
     "data": {
      "text/plain": [
       "<method-wrapper '__iter__' of list object at 0x106333d08>"
      ]
     },
     "execution_count": 15,
     "metadata": {},
     "output_type": "execute_result"
    }
   ],
   "source": [
    "shortList = [5,6,7,8]\n",
    "shortList.__iter__"
   ]
  },
  {
   "cell_type": "markdown",
   "metadata": {},
   "source": [
    "extend(): takes an iterable(list, set, tuple or string), adds each element of the iterable to the list one at a time"
   ]
  },
  {
   "cell_type": "markdown",
   "metadata": {},
   "source": [
    "append(): adds its argument to the end of the list as a single item"
   ]
  },
  {
   "cell_type": "code",
   "execution_count": 16,
   "metadata": {},
   "outputs": [
    {
     "name": "stdout",
     "output_type": "stream",
     "text": [
      "[5, 6, 7, 8, [4, 5]]\n"
     ]
    }
   ],
   "source": [
    "shortList.append([4,5])\n",
    "print(shortList)"
   ]
  },
  {
   "cell_type": "code",
   "execution_count": 17,
   "metadata": {},
   "outputs": [
    {
     "name": "stdout",
     "output_type": "stream",
     "text": [
      "[5, 6, 7, 8, 4, 5]\n"
     ]
    }
   ],
   "source": [
    "longerList = [5,6,7,8]\n",
    "longerList.extend([4,5])\n",
    "print(longerList)"
   ]
  },
  {
   "cell_type": "markdown",
   "metadata": {},
   "source": [
    "extend() is a more efficient version of calling append() multiple times."
   ]
  },
  {
   "cell_type": "markdown",
   "metadata": {},
   "source": [
    "**5. sort vs sorted**"
   ]
  },
  {
   "cell_type": "markdown",
   "metadata": {},
   "source": [
    "sorted() returns a new sorted list without affecting the original list. \n",
    "Also, it sorts any iterable, not just lists."
   ]
  },
  {
   "cell_type": "markdown",
   "metadata": {},
   "source": [
    "sort() sorts the list in-place, mutating the list indices and returns None."
   ]
  },
  {
   "cell_type": "markdown",
   "metadata": {},
   "source": [
    "**6. Clone or copy a list**"
   ]
  },
  {
   "cell_type": "markdown",
   "metadata": {},
   "source": [
    "* Slice original list and store it into a new variable: newList = oldList[:]\n",
    "* newList = list(oldList)\n",
    "* newList = copy.copy(oldList)\n",
    "* if list contains objects and you want to copy those, use copy.deepcopy(oldList)"
   ]
  },
  {
   "cell_type": "code",
   "execution_count": 20,
   "metadata": {},
   "outputs": [
    {
     "name": "stdout",
     "output_type": "stream",
     "text": [
      "['apple', 'fish']\n"
     ]
    }
   ],
   "source": [
    "import copy as c\n",
    "groceries = ['apple', 'fish']\n",
    "groce1 = c.copy(groceries)\n",
    "groce2 = c.deepcopy(groceries)\n",
    "print(groce2)"
   ]
  },
  {
   "cell_type": "markdown",
   "metadata": {},
   "source": [
    "**7. List comprehension**"
   ]
  },
  {
   "cell_type": "code",
   "execution_count": 22,
   "metadata": {},
   "outputs": [
    {
     "data": {
      "text/plain": [
       "[0, 4, 16, 36, 64]"
      ]
     },
     "execution_count": 22,
     "metadata": {},
     "output_type": "execute_result"
    }
   ],
   "source": [
    "[x**2 for x in range(10) if x%2 == 0]"
   ]
  },
  {
   "cell_type": "markdown",
   "metadata": {},
   "source": [
    "transform lists into other lists"
   ]
  },
  {
   "cell_type": "code",
   "execution_count": 25,
   "metadata": {},
   "outputs": [
    {
     "data": {
      "text/plain": [
       "[1, 4, 9, 16, 25]"
      ]
     },
     "execution_count": 25,
     "metadata": {},
     "output_type": "execute_result"
    }
   ],
   "source": [
    "mylist = [1,2,3,4,5]\n",
    "[(lambda x: x*x)(x) for x in mylist]\n",
    "#f = lambda x: x*x\n",
    "#[f(x) for x in range(10)]"
   ]
  },
  {
   "cell_type": "markdown",
   "metadata": {},
   "source": [
    "**8. Count occurences of a list item**"
   ]
  },
  {
   "cell_type": "code",
   "execution_count": 26,
   "metadata": {},
   "outputs": [
    {
     "data": {
      "text/plain": [
       "3"
      ]
     },
     "execution_count": 26,
     "metadata": {},
     "output_type": "execute_result"
    }
   ],
   "source": [
    "list1 = [\"d\", \"a\", \"t\", \"a\", \"c\", \"a\", \"m\", \"p\"]\n",
    "list1.count(\"a\")"
   ]
  },
  {
   "cell_type": "markdown",
   "metadata": {},
   "source": [
    "counting all items in a list with count()"
   ]
  },
  {
   "cell_type": "code",
   "execution_count": 38,
   "metadata": {},
   "outputs": [
    {
     "data": {
      "text/plain": [
       "[['b', 2], ['a', 1]]"
      ]
     },
     "execution_count": 38,
     "metadata": {},
     "output_type": "execute_result"
    }
   ],
   "source": [
    "list1 = [\"a\",\"b\",\"b\"]\n",
    "[[x,list1.count(x)] for x in set(list1)]"
   ]
  },
  {
   "cell_type": "markdown",
   "metadata": {},
   "source": [
    "counting all items with counter()"
   ]
  },
  {
   "cell_type": "code",
   "execution_count": 39,
   "metadata": {},
   "outputs": [
    {
     "data": {
      "text/plain": [
       "Counter({'a': 1, 'b': 2})"
      ]
     },
     "execution_count": 39,
     "metadata": {},
     "output_type": "execute_result"
    }
   ],
   "source": [
    "from collections import Counter\n",
    "list1 = [\"a\",\"b\",\"b\"]\n",
    "Counter(list1)"
   ]
  },
  {
   "cell_type": "markdown",
   "metadata": {},
   "source": [
    "**9. Split a list into evenly sized chunks**"
   ]
  },
  {
   "cell_type": "code",
   "execution_count": 83,
   "metadata": {},
   "outputs": [
    {
     "name": "stdout",
     "output_type": "stream",
     "text": [
      "(1, 2, 3) (4, 5, 6)\n"
     ]
    }
   ],
   "source": [
    "# Your list `x`\n",
    "x = [1,2,3,4,5,6,7,8]\n",
    "z = zip(*[iter(x)]*3)\n",
    "print(*z)"
   ]
  },
  {
   "cell_type": "code",
   "execution_count": 88,
   "metadata": {},
   "outputs": [
    {
     "name": "stdout",
     "output_type": "stream",
     "text": [
      "range(0, 2) range(2, 4)\n"
     ]
    }
   ],
   "source": [
    "def chunks(list, chunksize):\n",
    "    for i in range(0, len(list), chunksize):\n",
    "        yield list[i:i+chunksize]\n",
    "\n",
    "print(*chunks(range(4),2))"
   ]
  },
  {
   "cell_type": "code",
   "execution_count": 90,
   "metadata": {},
   "outputs": [
    {
     "data": {
      "text/plain": [
       "[range(0, 5), range(5, 10), range(10, 15), range(15, 20)]"
      ]
     },
     "execution_count": 90,
     "metadata": {},
     "output_type": "execute_result"
    }
   ],
   "source": [
    "list = range(0,20)\n",
    "chunk = 5\n",
    "#split up list into chunks\n",
    "[list[i:i+chunk] for i in range(0,len(list),chunk)]"
   ]
  },
  {
   "cell_type": "markdown",
   "metadata": {},
   "source": [
    "**10. Loop over a list**"
   ]
  },
  {
   "cell_type": "code",
   "execution_count": 47,
   "metadata": {},
   "outputs": [
    {
     "name": "stdout",
     "output_type": "stream",
     "text": [
      "[1, 2, 3]\n",
      "[8, 9, 10]\n"
     ]
    }
   ],
   "source": [
    "mylist = [[1,2,3],[4,5,6,7],[8,9,10]]\n",
    "\n",
    "for x in mylist:\n",
    "    if len(x) == 3:\n",
    "        print(x)"
   ]
  },
  {
   "cell_type": "code",
   "execution_count": 48,
   "metadata": {},
   "outputs": [
    {
     "name": "stdout",
     "output_type": "stream",
     "text": [
      "0 3\n",
      "1 4\n",
      "2 5\n",
      "3 6\n"
     ]
    }
   ],
   "source": [
    "mylist = [3,4,5,6]\n",
    "\n",
    "#print tuples of all indices and values\n",
    "for i, val in enumerate(mylist):\n",
    "    print(i,val)"
   ]
  },
  {
   "cell_type": "code",
   "execution_count": 51,
   "metadata": {},
   "outputs": [
    {
     "data": {
      "text/plain": [
       "[[1, 2, 3], [8, 9, 10]]"
      ]
     },
     "execution_count": 51,
     "metadata": {},
     "output_type": "execute_result"
    }
   ],
   "source": [
    "mylist = [[1,2,3],[4,5,6,7],[8,9,10]]\n",
    "[x for x in mylist if len(x)==3]"
   ]
  },
  {
   "cell_type": "markdown",
   "metadata": {},
   "source": [
    "**11. Create flat lists out of lists**"
   ]
  },
  {
   "cell_type": "markdown",
   "metadata": {},
   "source": [
    "use sum() to flatten lists"
   ]
  },
  {
   "cell_type": "code",
   "execution_count": 52,
   "metadata": {},
   "outputs": [
    {
     "data": {
      "text/plain": [
       "[1, 2, 3, 4, 5, 6]"
      ]
     },
     "execution_count": 52,
     "metadata": {},
     "output_type": "execute_result"
    }
   ],
   "source": [
    "list = [[1,2],[3,4],[5,6]]\n",
    "sum(list,[])"
   ]
  },
  {
   "cell_type": "markdown",
   "metadata": {},
   "source": [
    "use reduce() "
   ]
  },
  {
   "cell_type": "code",
   "execution_count": 53,
   "metadata": {},
   "outputs": [
    {
     "name": "stdout",
     "output_type": "stream",
     "text": [
      "[1, 2, 3, 4, 5, 6]\n"
     ]
    }
   ],
   "source": [
    "listofLists = [[1,2],[3,4],[5,6]]\n",
    "from functools import reduce\n",
    "print(reduce(lambda x,y: x+y, listofLists))"
   ]
  },
  {
   "cell_type": "markdown",
   "metadata": {},
   "source": [
    "use for loop"
   ]
  },
  {
   "cell_type": "code",
   "execution_count": 61,
   "metadata": {},
   "outputs": [
    {
     "name": "stdout",
     "output_type": "stream",
     "text": [
      "[1, 2, 3, 4, 5, 6]\n"
     ]
    }
   ],
   "source": [
    "print([item for sublist in listofLists for item in sublist])\n",
    "#list1 = []\n",
    "#for sublist in list:\n",
    "#  for item in sublist:\n",
    "#      list1.append(item)"
   ]
  },
  {
   "cell_type": "markdown",
   "metadata": {},
   "source": [
    "**12. Get intersection of two lists**"
   ]
  },
  {
   "cell_type": "markdown",
   "metadata": {},
   "source": [
    "use filter()"
   ]
  },
  {
   "cell_type": "code",
   "execution_count": 108,
   "metadata": {},
   "outputs": [
    {
     "name": "stdout",
     "output_type": "stream",
     "text": [
      "13 32\n",
      "7 13 28\n"
     ]
    }
   ],
   "source": [
    "list1 = [1, 6, 7, 10, 13, 28, 32, 41, 58, 63]\n",
    "list2 = [[13, 17, 18, 21, 32], [7, 11, 13, 14, 28]]\n",
    "intersection = [(filter(lambda x: x in list1, sublist)) for sublist in list2]\n",
    "print(*intersection[0])\n",
    "print(*intersection[1])"
   ]
  },
  {
   "cell_type": "markdown",
   "metadata": {},
   "source": [
    "use sets"
   ]
  },
  {
   "cell_type": "code",
   "execution_count": 94,
   "metadata": {},
   "outputs": [
    {
     "name": "stdout",
     "output_type": "stream",
     "text": [
      "32 1 6 7 13 28\n",
      "32 1 6 7 13 28\n"
     ]
    }
   ],
   "source": [
    "list1 = [1, 6, 7, 10, 13, 28, 32, 41, 58, 63]\n",
    "list2 = [13, 17, 18, 21, 32, 7, 11, 13, 14, 28, 1, 5, 6, 8, 15, 16]\n",
    "print(*(set(list1) & set(list2)))\n",
    "print(*(set(list1).intersection(list2)))"
   ]
  },
  {
   "cell_type": "markdown",
   "metadata": {},
   "source": [
    "**13. Remove duplicates from lists**"
   ]
  },
  {
   "cell_type": "code",
   "execution_count": 109,
   "metadata": {},
   "outputs": [
    {
     "name": "stdout",
     "output_type": "stream",
     "text": [
      "1 2 3 5 6 7 8\n"
     ]
    }
   ],
   "source": [
    "duplicates = [1, 2, 3, 1, 2, 5, 6, 7, 8]\n",
    "print(*set(duplicates))"
   ]
  },
  {
   "cell_type": "code",
   "execution_count": 111,
   "metadata": {},
   "outputs": [
    {
     "name": "stdout",
     "output_type": "stream",
     "text": [
      "8 5 6 7\n"
     ]
    }
   ],
   "source": [
    "smallnum = [1,2,3]\n",
    "print(*(set(duplicates) - set(smallnum)))"
   ]
  },
  {
   "cell_type": "markdown",
   "metadata": {},
   "source": [
    "**14. NumPy vs Lists**"
   ]
  },
  {
   "cell_type": "markdown",
   "metadata": {},
   "source": [
    "* NumPy arrays are more compact than lists\n",
    "* Access in reading and writing items is faster with NumPy\n",
    "* NumPy has vector and matrix operations free"
   ]
  },
  {
   "cell_type": "markdown",
   "metadata": {},
   "source": [
    "**15. NumPy arrays**"
   ]
  },
  {
   "cell_type": "code",
   "execution_count": 112,
   "metadata": {},
   "outputs": [
    {
     "data": {
      "text/plain": [
       "array([], dtype=float64)"
      ]
     },
     "execution_count": 112,
     "metadata": {},
     "output_type": "execute_result"
    }
   ],
   "source": [
    "import numpy\n",
    "numpy.array([])"
   ]
  },
  {
   "cell_type": "code",
   "execution_count": 113,
   "metadata": {},
   "outputs": [
    {
     "data": {
      "text/plain": [
       "array([[0., 0.],\n",
       "       [0., 0.],\n",
       "       [0., 0.],\n",
       "       [0., 0.]])"
      ]
     },
     "execution_count": 113,
     "metadata": {},
     "output_type": "execute_result"
    }
   ],
   "source": [
    "numpy.zeros(shape=(4,2))"
   ]
  },
  {
   "cell_type": "code",
   "execution_count": 114,
   "metadata": {},
   "outputs": [
    {
     "data": {
      "text/plain": [
       "array([1., 1., 1.])"
      ]
     },
     "execution_count": 114,
     "metadata": {},
     "output_type": "execute_result"
    }
   ],
   "source": [
    "numpy.ones(3)"
   ]
  },
  {
   "cell_type": "code",
   "execution_count": 115,
   "metadata": {},
   "outputs": [
    {
     "data": {
      "text/plain": [
       "array([], shape=(0, 0), dtype=float64)"
      ]
     },
     "execution_count": 115,
     "metadata": {},
     "output_type": "execute_result"
    }
   ],
   "source": [
    "numpy.empty(shape=(0,0))"
   ]
  },
  {
   "cell_type": "markdown",
   "metadata": {},
   "source": [
    "**16. Math with lists**"
   ]
  },
  {
   "cell_type": "markdown",
   "metadata": {},
   "source": [
    "weighted average of a list"
   ]
  },
  {
   "cell_type": "code",
   "execution_count": 116,
   "metadata": {},
   "outputs": [
    {
     "name": "stdout",
     "output_type": "stream",
     "text": [
      "0.41609999999999997\n"
     ]
    }
   ],
   "source": [
    "cost = [0.424, 0.4221, 0.4185, 0.4132, 0.413]\n",
    "cases = [10, 20, 30, 40, 50]\n",
    "for c in range(len(cost)):\n",
    "    cost[c] = (cost[c]*cases[c]/sum(cases))\n",
    "cost = sum(cost)\n",
    "print(cost)"
   ]
  },
  {
   "cell_type": "code",
   "execution_count": 118,
   "metadata": {},
   "outputs": [
    {
     "data": {
      "text/plain": [
       "0.41609999999999997"
      ]
     },
     "execution_count": 118,
     "metadata": {},
     "output_type": "execute_result"
    }
   ],
   "source": [
    "cost = [0.424, 0.4221, 0.4185, 0.4132, 0.413]\n",
    "cases = [10, 20, 30, 40, 50]\n",
    "sum(cost[c]*cases[c]/sum(cases) for c in range(len(cost)))"
   ]
  },
  {
   "cell_type": "code",
   "execution_count": 121,
   "metadata": {},
   "outputs": [
    {
     "name": "stdout",
     "output_type": "stream",
     "text": [
      "(0.424, 10) (0.4221, 20) (0.4185, 30) (0.4132, 40) (0.413, 50)\n",
      "0.41609999999999997\n"
     ]
    }
   ],
   "source": [
    "cost = [0.424, 0.4221, 0.4185, 0.4132, 0.413]\n",
    "cases = [10, 20, 30, 40, 50]\n",
    "print(*zip(cost,cases))\n",
    "print(sum([x*y for x,y in zip(cost,cases)]) / sum(cases))"
   ]
  },
  {
   "cell_type": "markdown",
   "metadata": {},
   "source": [
    "quantile of a list"
   ]
  },
  {
   "cell_type": "code",
   "execution_count": 122,
   "metadata": {},
   "outputs": [
    {
     "name": "stdout",
     "output_type": "stream",
     "text": [
      "3.0\n"
     ]
    }
   ],
   "source": [
    "import numpy as np\n",
    "a = np.array([1,2,3,4,5])\n",
    "p = np.percentile(a,50)\n",
    "print(p)"
   ]
  },
  {
   "cell_type": "markdown",
   "metadata": {},
   "source": [
    "sum lists element-wise"
   ]
  },
  {
   "cell_type": "code",
   "execution_count": 124,
   "metadata": {},
   "outputs": [
    {
     "name": "stdout",
     "output_type": "stream",
     "text": [
      "5 7 9\n"
     ]
    }
   ],
   "source": [
    "list1 = [1,2,3]\n",
    "list2 = [4,5,6]\n",
    "from operator import add\n",
    "print(*(map(add,list1,list2)))"
   ]
  },
  {
   "cell_type": "code",
   "execution_count": 136,
   "metadata": {},
   "outputs": [
    {
     "name": "stdout",
     "output_type": "stream",
     "text": [
      "[5, 7, 9]\n"
     ]
    }
   ],
   "source": [
    "res = [x+y for x,y in zip(list1,list2)]\n",
    "print(res)"
   ]
  },
  {
   "cell_type": "code",
   "execution_count": 134,
   "metadata": {},
   "outputs": [
    {
     "name": "stdout",
     "output_type": "stream",
     "text": [
      "[5 7 9]\n"
     ]
    }
   ],
   "source": [
    "v1 = np.array([1,2,3])\n",
    "v2 = np.array([4,5,6])\n",
    "sum_v = v1 + v2\n",
    "print(sum_v)"
   ]
  },
  {
   "cell_type": "markdown",
   "metadata": {},
   "source": [
    "Reference: https://www.datacamp.com/community/tutorials/18-most-common-python-list-questions-learn-python#question3"
   ]
  }
 ],
 "metadata": {
  "kernelspec": {
   "display_name": "Python 3",
   "language": "python",
   "name": "python3"
  },
  "language_info": {
   "codemirror_mode": {
    "name": "ipython",
    "version": 3
   },
   "file_extension": ".py",
   "mimetype": "text/x-python",
   "name": "python",
   "nbconvert_exporter": "python",
   "pygments_lexer": "ipython3",
   "version": "3.6.5"
  }
 },
 "nbformat": 4,
 "nbformat_minor": 2
}
