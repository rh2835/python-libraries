{
 "cells": [
  {
   "cell_type": "markdown",
   "metadata": {},
   "source": [
    "https://www.datacamp.com/community/tutorials/json-data-python <br/>\n",
    "JSON(JavaScript Object Notation) is a lightweight data-interchange format.\n",
    "It is primarily used to transmit data between a server and web applications."
   ]
  },
  {
   "cell_type": "markdown",
   "metadata": {},
   "source": [
    "JSON is built on two structures:\n",
    "* A collection of name/value pairs. This is realized as dictionary, hash table, etc.\n",
    "* An ordered list of values. This is realized as an array, list, etc."
   ]
  },
  {
   "cell_type": "markdown",
   "metadata": {},
   "source": [
    "**JSON in Python**"
   ]
  },
  {
   "cell_type": "markdown",
   "metadata": {},
   "source": [
    "Here is an example of JSON data."
   ]
  },
  {
   "cell_type": "code",
   "execution_count": 1,
   "metadata": {},
   "outputs": [
    {
     "data": {
      "text/plain": [
       "{'article': [{'id': '01',\n",
       "   'language': 'JSON',\n",
       "   'edition': 'first',\n",
       "   'author': 'rh'},\n",
       "  {'id': '02', 'language': 'Python', 'edition': 'second', 'author': 'rh'}],\n",
       " 'blog': [{'name': 'Datacamp', 'URL': 'datacamp.com'}]}"
      ]
     },
     "execution_count": 1,
     "metadata": {},
     "output_type": "execute_result"
    }
   ],
   "source": [
    "{\n",
    "    \"article\":[\n",
    "        {\n",
    "            \"id\":\"01\",\n",
    "            \"language\":\"JSON\",\n",
    "            \"edition\": \"first\",\n",
    "            \"author\": \"rh\"\n",
    "        },\n",
    "        \n",
    "        {\n",
    "            \"id\":\"02\",\n",
    "            \"language\":\"Python\",\n",
    "            \"edition\":\"second\",\n",
    "            \"author\":\"rh\"\n",
    "        }\n",
    "    ],\n",
    "    \n",
    "    \"blog\":[\n",
    "        {\n",
    "            \"name\":\"Datacamp\",\n",
    "            \"URL\":\"datacamp.com\"\n",
    "        }\n",
    "    ]\n",
    "}"
   ]
  },
  {
   "cell_type": "markdown",
   "metadata": {},
   "source": [
    "**Converting JSON to Python objects**"
   ]
  },
  {
   "cell_type": "code",
   "execution_count": 2,
   "metadata": {},
   "outputs": [],
   "source": [
    "import json"
   ]
  },
  {
   "cell_type": "code",
   "execution_count": 5,
   "metadata": {},
   "outputs": [],
   "source": [
    "#string is multiple line, so use triple double or single quotes\n",
    "my_json_string = \"\"\"{\n",
    "    \"article\":[\n",
    "        {\n",
    "            \"id\":\"01\",\n",
    "            \"language\":\"JSON\",\n",
    "            \"edition\":\"first\",\n",
    "            \"author\":\"rh\"\n",
    "        },\n",
    "        \n",
    "        {\n",
    "            \"id\":\"02\",\n",
    "            \"language\":\"Python\",\n",
    "            \"edition\":\"second\",\n",
    "            \"author\":\"rh\"\n",
    "        }\n",
    "    ],\n",
    "    \n",
    "    \"blog\":[\n",
    "        {\n",
    "            \"name\":\"datacamp\",\n",
    "            \"URL\":\"datacamp.com\"\n",
    "        }\n",
    "    ]\n",
    "\n",
    "}\"\"\""
   ]
  },
  {
   "cell_type": "code",
   "execution_count": 6,
   "metadata": {},
   "outputs": [],
   "source": [
    "to_python = json.loads(my_json_string)"
   ]
  },
  {
   "cell_type": "code",
   "execution_count": 7,
   "metadata": {},
   "outputs": [
    {
     "data": {
      "text/plain": [
       "[{'name': 'datacamp', 'URL': 'datacamp.com'}]"
      ]
     },
     "execution_count": 7,
     "metadata": {},
     "output_type": "execute_result"
    }
   ],
   "source": [
    "to_python['blog']"
   ]
  },
  {
   "cell_type": "markdown",
   "metadata": {},
   "source": [
    "**Converting Python objects to JSON**"
   ]
  },
  {
   "cell_type": "code",
   "execution_count": 8,
   "metadata": {},
   "outputs": [
    {
     "data": {
      "text/plain": [
       "'{\"URL\": \"datacamp.com\", \"name\": \"datacamp\"}'"
      ]
     },
     "execution_count": 8,
     "metadata": {},
     "output_type": "execute_result"
    }
   ],
   "source": [
    "#Python: dict  JSON: object\n",
    "blog = {'URL':'datacamp.com', 'name':'datacamp'}\n",
    "to_json = json.dumps(blog)\n",
    "to_json"
   ]
  },
  {
   "cell_type": "markdown",
   "metadata": {},
   "source": [
    "Python tuple to JSON array"
   ]
  },
  {
   "cell_type": "code",
   "execution_count": 9,
   "metadata": {},
   "outputs": [
    {
     "data": {
      "text/plain": [
       "'[\"Mango\", \"Banana\", \"Apple\"]'"
      ]
     },
     "execution_count": 9,
     "metadata": {},
     "output_type": "execute_result"
    }
   ],
   "source": [
    "tuple_example = 'Mango','Banana','Apple';\n",
    "json.dumps(tuple_example)"
   ]
  },
  {
   "cell_type": "markdown",
   "metadata": {},
   "source": [
    "Python list to JSON array"
   ]
  },
  {
   "cell_type": "code",
   "execution_count": 10,
   "metadata": {},
   "outputs": [
    {
     "data": {
      "text/plain": [
       "'[\"Mango\", 1, 3, 6, \"Oranges\"]'"
      ]
     },
     "execution_count": 10,
     "metadata": {},
     "output_type": "execute_result"
    }
   ],
   "source": [
    "list_example = [\"Mango\",1,3,6,\"Oranges\"]\n",
    "json.dumps(list_example)"
   ]
  },
  {
   "cell_type": "markdown",
   "metadata": {},
   "source": [
    "Python string to JSON string"
   ]
  },
  {
   "cell_type": "code",
   "execution_count": 11,
   "metadata": {},
   "outputs": [
    {
     "data": {
      "text/plain": [
       "'\"this is an example\"'"
      ]
     },
     "execution_count": 11,
     "metadata": {},
     "output_type": "execute_result"
    }
   ],
   "source": [
    "string_example = \"this is an example\"\n",
    "json.dumps(string_example)"
   ]
  },
  {
   "cell_type": "markdown",
   "metadata": {},
   "source": [
    "Python boolean values to JSON boolean"
   ]
  },
  {
   "cell_type": "code",
   "execution_count": 12,
   "metadata": {},
   "outputs": [
    {
     "data": {
      "text/plain": [
       "'false'"
      ]
     },
     "execution_count": 12,
     "metadata": {},
     "output_type": "execute_result"
    }
   ],
   "source": [
    "boolean_value = False\n",
    "json.dumps(boolean_value)"
   ]
  },
  {
   "cell_type": "markdown",
   "metadata": {},
   "source": [
    "**Writing JSON file**"
   ]
  },
  {
   "cell_type": "markdown",
   "metadata": {},
   "source": [
    "JSON files are saved in .json extension"
   ]
  },
  {
   "cell_type": "code",
   "execution_count": 13,
   "metadata": {},
   "outputs": [],
   "source": [
    "my_json_string = \"\"\"{\n",
    "    \"article\":[\n",
    "        {\n",
    "            \"id\":\"01\",\n",
    "            \"language\":\"JSON\",\n",
    "            \"edition\":\"first\",\n",
    "            \"author\":\"rh\"\n",
    "        },\n",
    "        \n",
    "        {\n",
    "            \"id\":\"02\",\n",
    "            \"language\":\"Python\",\n",
    "            \"edition\":\"second\",\n",
    "            \"author\":\"rh\"\n",
    "        }\n",
    "    ],\n",
    "    \n",
    "    \"blog\":[\n",
    "        {\n",
    "            \"name\":\"datacamp\",\n",
    "            \"URL\":\"datacamp.com\"\n",
    "        }\n",
    "    ]\n",
    "}\"\"\""
   ]
  },
  {
   "cell_type": "code",
   "execution_count": 14,
   "metadata": {},
   "outputs": [],
   "source": [
    "#'w' indicates writing a file\n",
    "with open('test_file.json','w') as file:\n",
    "    json.dump(my_json_string,file)"
   ]
  },
  {
   "cell_type": "markdown",
   "metadata": {},
   "source": [
    "**Reading JSON file**"
   ]
  },
  {
   "cell_type": "code",
   "execution_count": 15,
   "metadata": {},
   "outputs": [
    {
     "name": "stdout",
     "output_type": "stream",
     "text": [
      "{\n",
      "    \"article\":[\n",
      "        {\n",
      "            \"id\":\"01\",\n",
      "            \"language\":\"JSON\",\n",
      "            \"edition\":\"first\",\n",
      "            \"author\":\"rh\"\n",
      "        },\n",
      "        \n",
      "        {\n",
      "            \"id\":\"02\",\n",
      "            \"language\":\"Python\",\n",
      "            \"edition\":\"second\",\n",
      "            \"author\":\"rh\"\n",
      "        }\n",
      "    ],\n",
      "    \n",
      "    \"blog\":[\n",
      "        {\n",
      "            \"name\":\"datacamp\",\n",
      "            \"URL\":\"datacamp.com\"\n",
      "        }\n",
      "    ]\n",
      "}\n"
     ]
    }
   ],
   "source": [
    "with open('test_file.json','r') as j:\n",
    "    json_data = json.load(j)\n",
    "    print(json_data)"
   ]
  },
  {
   "cell_type": "markdown",
   "metadata": {},
   "source": [
    "json.load: used when loading a file<br/>\n",
    "json.loads: used when loading a string"
   ]
  },
  {
   "cell_type": "markdown",
   "metadata": {},
   "source": [
    "json.dump: dump JSON into a file<br/>\n",
    "json.dumps: used when need JSON data as a string for parsing"
   ]
  },
  {
   "cell_type": "markdown",
   "metadata": {},
   "source": [
    "**JSON data in data science**"
   ]
  },
  {
   "cell_type": "code",
   "execution_count": 17,
   "metadata": {},
   "outputs": [],
   "source": [
    "import pandas as pd\n",
    "data = pd.read_json(\"https://api.github.com/users\")\n",
    "df = pd.DataFrame(data)"
   ]
  },
  {
   "cell_type": "code",
   "execution_count": 19,
   "metadata": {},
   "outputs": [
    {
     "data": {
      "text/html": [
       "<div>\n",
       "<style scoped>\n",
       "    .dataframe tbody tr th:only-of-type {\n",
       "        vertical-align: middle;\n",
       "    }\n",
       "\n",
       "    .dataframe tbody tr th {\n",
       "        vertical-align: top;\n",
       "    }\n",
       "\n",
       "    .dataframe thead th {\n",
       "        text-align: right;\n",
       "    }\n",
       "</style>\n",
       "<table border=\"1\" class=\"dataframe\">\n",
       "  <thead>\n",
       "    <tr style=\"text-align: right;\">\n",
       "      <th></th>\n",
       "      <th>avatar_url</th>\n",
       "      <th>events_url</th>\n",
       "      <th>followers_url</th>\n",
       "      <th>following_url</th>\n",
       "      <th>gists_url</th>\n",
       "      <th>gravatar_id</th>\n",
       "      <th>html_url</th>\n",
       "      <th>id</th>\n",
       "      <th>login</th>\n",
       "      <th>node_id</th>\n",
       "      <th>organizations_url</th>\n",
       "      <th>received_events_url</th>\n",
       "      <th>repos_url</th>\n",
       "      <th>site_admin</th>\n",
       "      <th>starred_url</th>\n",
       "      <th>subscriptions_url</th>\n",
       "      <th>type</th>\n",
       "      <th>url</th>\n",
       "    </tr>\n",
       "  </thead>\n",
       "  <tbody>\n",
       "    <tr>\n",
       "      <th>0</th>\n",
       "      <td>https://avatars0.githubusercontent.com/u/1?v=4</td>\n",
       "      <td>https://api.github.com/users/mojombo/events{/p...</td>\n",
       "      <td>https://api.github.com/users/mojombo/followers</td>\n",
       "      <td>https://api.github.com/users/mojombo/following...</td>\n",
       "      <td>https://api.github.com/users/mojombo/gists{/gi...</td>\n",
       "      <td></td>\n",
       "      <td>https://github.com/mojombo</td>\n",
       "      <td>1</td>\n",
       "      <td>mojombo</td>\n",
       "      <td>MDQ6VXNlcjE=</td>\n",
       "      <td>https://api.github.com/users/mojombo/orgs</td>\n",
       "      <td>https://api.github.com/users/mojombo/received_...</td>\n",
       "      <td>https://api.github.com/users/mojombo/repos</td>\n",
       "      <td>False</td>\n",
       "      <td>https://api.github.com/users/mojombo/starred{/...</td>\n",
       "      <td>https://api.github.com/users/mojombo/subscript...</td>\n",
       "      <td>User</td>\n",
       "      <td>https://api.github.com/users/mojombo</td>\n",
       "    </tr>\n",
       "    <tr>\n",
       "      <th>1</th>\n",
       "      <td>https://avatars0.githubusercontent.com/u/2?v=4</td>\n",
       "      <td>https://api.github.com/users/defunkt/events{/p...</td>\n",
       "      <td>https://api.github.com/users/defunkt/followers</td>\n",
       "      <td>https://api.github.com/users/defunkt/following...</td>\n",
       "      <td>https://api.github.com/users/defunkt/gists{/gi...</td>\n",
       "      <td></td>\n",
       "      <td>https://github.com/defunkt</td>\n",
       "      <td>2</td>\n",
       "      <td>defunkt</td>\n",
       "      <td>MDQ6VXNlcjI=</td>\n",
       "      <td>https://api.github.com/users/defunkt/orgs</td>\n",
       "      <td>https://api.github.com/users/defunkt/received_...</td>\n",
       "      <td>https://api.github.com/users/defunkt/repos</td>\n",
       "      <td>True</td>\n",
       "      <td>https://api.github.com/users/defunkt/starred{/...</td>\n",
       "      <td>https://api.github.com/users/defunkt/subscript...</td>\n",
       "      <td>User</td>\n",
       "      <td>https://api.github.com/users/defunkt</td>\n",
       "    </tr>\n",
       "    <tr>\n",
       "      <th>2</th>\n",
       "      <td>https://avatars0.githubusercontent.com/u/3?v=4</td>\n",
       "      <td>https://api.github.com/users/pjhyett/events{/p...</td>\n",
       "      <td>https://api.github.com/users/pjhyett/followers</td>\n",
       "      <td>https://api.github.com/users/pjhyett/following...</td>\n",
       "      <td>https://api.github.com/users/pjhyett/gists{/gi...</td>\n",
       "      <td></td>\n",
       "      <td>https://github.com/pjhyett</td>\n",
       "      <td>3</td>\n",
       "      <td>pjhyett</td>\n",
       "      <td>MDQ6VXNlcjM=</td>\n",
       "      <td>https://api.github.com/users/pjhyett/orgs</td>\n",
       "      <td>https://api.github.com/users/pjhyett/received_...</td>\n",
       "      <td>https://api.github.com/users/pjhyett/repos</td>\n",
       "      <td>False</td>\n",
       "      <td>https://api.github.com/users/pjhyett/starred{/...</td>\n",
       "      <td>https://api.github.com/users/pjhyett/subscript...</td>\n",
       "      <td>User</td>\n",
       "      <td>https://api.github.com/users/pjhyett</td>\n",
       "    </tr>\n",
       "    <tr>\n",
       "      <th>3</th>\n",
       "      <td>https://avatars0.githubusercontent.com/u/4?v=4</td>\n",
       "      <td>https://api.github.com/users/wycats/events{/pr...</td>\n",
       "      <td>https://api.github.com/users/wycats/followers</td>\n",
       "      <td>https://api.github.com/users/wycats/following{...</td>\n",
       "      <td>https://api.github.com/users/wycats/gists{/gis...</td>\n",
       "      <td></td>\n",
       "      <td>https://github.com/wycats</td>\n",
       "      <td>4</td>\n",
       "      <td>wycats</td>\n",
       "      <td>MDQ6VXNlcjQ=</td>\n",
       "      <td>https://api.github.com/users/wycats/orgs</td>\n",
       "      <td>https://api.github.com/users/wycats/received_e...</td>\n",
       "      <td>https://api.github.com/users/wycats/repos</td>\n",
       "      <td>False</td>\n",
       "      <td>https://api.github.com/users/wycats/starred{/o...</td>\n",
       "      <td>https://api.github.com/users/wycats/subscriptions</td>\n",
       "      <td>User</td>\n",
       "      <td>https://api.github.com/users/wycats</td>\n",
       "    </tr>\n",
       "    <tr>\n",
       "      <th>4</th>\n",
       "      <td>https://avatars0.githubusercontent.com/u/5?v=4</td>\n",
       "      <td>https://api.github.com/users/ezmobius/events{/...</td>\n",
       "      <td>https://api.github.com/users/ezmobius/followers</td>\n",
       "      <td>https://api.github.com/users/ezmobius/followin...</td>\n",
       "      <td>https://api.github.com/users/ezmobius/gists{/g...</td>\n",
       "      <td></td>\n",
       "      <td>https://github.com/ezmobius</td>\n",
       "      <td>5</td>\n",
       "      <td>ezmobius</td>\n",
       "      <td>MDQ6VXNlcjU=</td>\n",
       "      <td>https://api.github.com/users/ezmobius/orgs</td>\n",
       "      <td>https://api.github.com/users/ezmobius/received...</td>\n",
       "      <td>https://api.github.com/users/ezmobius/repos</td>\n",
       "      <td>False</td>\n",
       "      <td>https://api.github.com/users/ezmobius/starred{...</td>\n",
       "      <td>https://api.github.com/users/ezmobius/subscrip...</td>\n",
       "      <td>User</td>\n",
       "      <td>https://api.github.com/users/ezmobius</td>\n",
       "    </tr>\n",
       "  </tbody>\n",
       "</table>\n",
       "</div>"
      ],
      "text/plain": [
       "                                       avatar_url  \\\n",
       "0  https://avatars0.githubusercontent.com/u/1?v=4   \n",
       "1  https://avatars0.githubusercontent.com/u/2?v=4   \n",
       "2  https://avatars0.githubusercontent.com/u/3?v=4   \n",
       "3  https://avatars0.githubusercontent.com/u/4?v=4   \n",
       "4  https://avatars0.githubusercontent.com/u/5?v=4   \n",
       "\n",
       "                                          events_url  \\\n",
       "0  https://api.github.com/users/mojombo/events{/p...   \n",
       "1  https://api.github.com/users/defunkt/events{/p...   \n",
       "2  https://api.github.com/users/pjhyett/events{/p...   \n",
       "3  https://api.github.com/users/wycats/events{/pr...   \n",
       "4  https://api.github.com/users/ezmobius/events{/...   \n",
       "\n",
       "                                     followers_url  \\\n",
       "0   https://api.github.com/users/mojombo/followers   \n",
       "1   https://api.github.com/users/defunkt/followers   \n",
       "2   https://api.github.com/users/pjhyett/followers   \n",
       "3    https://api.github.com/users/wycats/followers   \n",
       "4  https://api.github.com/users/ezmobius/followers   \n",
       "\n",
       "                                       following_url  \\\n",
       "0  https://api.github.com/users/mojombo/following...   \n",
       "1  https://api.github.com/users/defunkt/following...   \n",
       "2  https://api.github.com/users/pjhyett/following...   \n",
       "3  https://api.github.com/users/wycats/following{...   \n",
       "4  https://api.github.com/users/ezmobius/followin...   \n",
       "\n",
       "                                           gists_url gravatar_id  \\\n",
       "0  https://api.github.com/users/mojombo/gists{/gi...               \n",
       "1  https://api.github.com/users/defunkt/gists{/gi...               \n",
       "2  https://api.github.com/users/pjhyett/gists{/gi...               \n",
       "3  https://api.github.com/users/wycats/gists{/gis...               \n",
       "4  https://api.github.com/users/ezmobius/gists{/g...               \n",
       "\n",
       "                      html_url  id     login       node_id  \\\n",
       "0   https://github.com/mojombo   1   mojombo  MDQ6VXNlcjE=   \n",
       "1   https://github.com/defunkt   2   defunkt  MDQ6VXNlcjI=   \n",
       "2   https://github.com/pjhyett   3   pjhyett  MDQ6VXNlcjM=   \n",
       "3    https://github.com/wycats   4    wycats  MDQ6VXNlcjQ=   \n",
       "4  https://github.com/ezmobius   5  ezmobius  MDQ6VXNlcjU=   \n",
       "\n",
       "                            organizations_url  \\\n",
       "0   https://api.github.com/users/mojombo/orgs   \n",
       "1   https://api.github.com/users/defunkt/orgs   \n",
       "2   https://api.github.com/users/pjhyett/orgs   \n",
       "3    https://api.github.com/users/wycats/orgs   \n",
       "4  https://api.github.com/users/ezmobius/orgs   \n",
       "\n",
       "                                 received_events_url  \\\n",
       "0  https://api.github.com/users/mojombo/received_...   \n",
       "1  https://api.github.com/users/defunkt/received_...   \n",
       "2  https://api.github.com/users/pjhyett/received_...   \n",
       "3  https://api.github.com/users/wycats/received_e...   \n",
       "4  https://api.github.com/users/ezmobius/received...   \n",
       "\n",
       "                                     repos_url  site_admin  \\\n",
       "0   https://api.github.com/users/mojombo/repos       False   \n",
       "1   https://api.github.com/users/defunkt/repos        True   \n",
       "2   https://api.github.com/users/pjhyett/repos       False   \n",
       "3    https://api.github.com/users/wycats/repos       False   \n",
       "4  https://api.github.com/users/ezmobius/repos       False   \n",
       "\n",
       "                                         starred_url  \\\n",
       "0  https://api.github.com/users/mojombo/starred{/...   \n",
       "1  https://api.github.com/users/defunkt/starred{/...   \n",
       "2  https://api.github.com/users/pjhyett/starred{/...   \n",
       "3  https://api.github.com/users/wycats/starred{/o...   \n",
       "4  https://api.github.com/users/ezmobius/starred{...   \n",
       "\n",
       "                                   subscriptions_url  type  \\\n",
       "0  https://api.github.com/users/mojombo/subscript...  User   \n",
       "1  https://api.github.com/users/defunkt/subscript...  User   \n",
       "2  https://api.github.com/users/pjhyett/subscript...  User   \n",
       "3  https://api.github.com/users/wycats/subscriptions  User   \n",
       "4  https://api.github.com/users/ezmobius/subscrip...  User   \n",
       "\n",
       "                                     url  \n",
       "0   https://api.github.com/users/mojombo  \n",
       "1   https://api.github.com/users/defunkt  \n",
       "2   https://api.github.com/users/pjhyett  \n",
       "3    https://api.github.com/users/wycats  \n",
       "4  https://api.github.com/users/ezmobius  "
      ]
     },
     "execution_count": 19,
     "metadata": {},
     "output_type": "execute_result"
    }
   ],
   "source": [
    "df.head()"
   ]
  },
  {
   "cell_type": "markdown",
   "metadata": {},
   "source": [
    "The process of encoding JSON is called Serialization, while decoding JSON is called deserialization. Some JSON deserializer implementation may have limitations on the length of JSON strings, size of JSON texts, etc."
   ]
  }
 ],
 "metadata": {
  "kernelspec": {
   "display_name": "Python 3",
   "language": "python",
   "name": "python3"
  },
  "language_info": {
   "codemirror_mode": {
    "name": "ipython",
    "version": 3
   },
   "file_extension": ".py",
   "mimetype": "text/x-python",
   "name": "python",
   "nbconvert_exporter": "python",
   "pygments_lexer": "ipython3",
   "version": "3.6.5"
  }
 },
 "nbformat": 4,
 "nbformat_minor": 2
}
